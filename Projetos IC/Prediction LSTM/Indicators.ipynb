{
 "cells": [
  {
   "cell_type": "code",
   "execution_count": 157,
   "metadata": {},
   "outputs": [],
   "source": [
    "import pandas as pd\n",
    "import matplotlib.pyplot as plt\n",
    "import talib\n",
    "import numpy as np\n",
    "from sklearn.metrics import classification_report"
   ]
  },
  {
   "cell_type": "code",
   "execution_count": 177,
   "metadata": {},
   "outputs": [],
   "source": [
    "BOVA11 = pd.read_csv('PETR4.IND.csv')\n",
    "BOVA11.fillna(BOVA11.mean(axis=0), inplace=True)"
   ]
  },
  {
   "cell_type": "code",
   "execution_count": 178,
   "metadata": {},
   "outputs": [
    {
     "data": {
      "text/html": [
       "<div>\n",
       "<style scoped>\n",
       "    .dataframe tbody tr th:only-of-type {\n",
       "        vertical-align: middle;\n",
       "    }\n",
       "\n",
       "    .dataframe tbody tr th {\n",
       "        vertical-align: top;\n",
       "    }\n",
       "\n",
       "    .dataframe thead th {\n",
       "        text-align: right;\n",
       "    }\n",
       "</style>\n",
       "<table border=\"1\" class=\"dataframe\">\n",
       "  <thead>\n",
       "    <tr style=\"text-align: right;\">\n",
       "      <th></th>\n",
       "      <th>Date</th>\n",
       "      <th>Open</th>\n",
       "      <th>High</th>\n",
       "      <th>Low</th>\n",
       "      <th>Close</th>\n",
       "      <th>Adj Close</th>\n",
       "      <th>Volume</th>\n",
       "    </tr>\n",
       "  </thead>\n",
       "  <tbody>\n",
       "    <tr>\n",
       "      <th>395</th>\n",
       "      <td>2020-06-23</td>\n",
       "      <td>21.219999</td>\n",
       "      <td>22.070000</td>\n",
       "      <td>21.139999</td>\n",
       "      <td>21.650000</td>\n",
       "      <td>21.649570</td>\n",
       "      <td>78950900.0</td>\n",
       "    </tr>\n",
       "    <tr>\n",
       "      <th>396</th>\n",
       "      <td>2020-06-24</td>\n",
       "      <td>21.490000</td>\n",
       "      <td>21.559999</td>\n",
       "      <td>20.709999</td>\n",
       "      <td>21.000000</td>\n",
       "      <td>20.999582</td>\n",
       "      <td>65162400.0</td>\n",
       "    </tr>\n",
       "    <tr>\n",
       "      <th>397</th>\n",
       "      <td>2020-06-25</td>\n",
       "      <td>20.910000</td>\n",
       "      <td>21.469999</td>\n",
       "      <td>20.730000</td>\n",
       "      <td>21.469999</td>\n",
       "      <td>21.469574</td>\n",
       "      <td>47263500.0</td>\n",
       "    </tr>\n",
       "    <tr>\n",
       "      <th>398</th>\n",
       "      <td>2020-06-26</td>\n",
       "      <td>21.209999</td>\n",
       "      <td>21.469999</td>\n",
       "      <td>20.780001</td>\n",
       "      <td>20.840000</td>\n",
       "      <td>20.839586</td>\n",
       "      <td>55499300.0</td>\n",
       "    </tr>\n",
       "    <tr>\n",
       "      <th>399</th>\n",
       "      <td>2020-06-29</td>\n",
       "      <td>21.100000</td>\n",
       "      <td>21.660000</td>\n",
       "      <td>20.930000</td>\n",
       "      <td>21.660000</td>\n",
       "      <td>21.659571</td>\n",
       "      <td>59809600.0</td>\n",
       "    </tr>\n",
       "  </tbody>\n",
       "</table>\n",
       "</div>"
      ],
      "text/plain": [
       "           Date       Open       High        Low      Close  Adj Close  \\\n",
       "395  2020-06-23  21.219999  22.070000  21.139999  21.650000  21.649570   \n",
       "396  2020-06-24  21.490000  21.559999  20.709999  21.000000  20.999582   \n",
       "397  2020-06-25  20.910000  21.469999  20.730000  21.469999  21.469574   \n",
       "398  2020-06-26  21.209999  21.469999  20.780001  20.840000  20.839586   \n",
       "399  2020-06-29  21.100000  21.660000  20.930000  21.660000  21.659571   \n",
       "\n",
       "         Volume  \n",
       "395  78950900.0  \n",
       "396  65162400.0  \n",
       "397  47263500.0  \n",
       "398  55499300.0  \n",
       "399  59809600.0  "
      ]
     },
     "execution_count": 178,
     "metadata": {},
     "output_type": "execute_result"
    }
   ],
   "source": [
    "BOVA11.tail()"
   ]
  },
  {
   "cell_type": "code",
   "execution_count": 179,
   "metadata": {},
   "outputs": [],
   "source": [
    "Close_BOVA11 = BOVA11['Close']\n",
    "Close_BOVA11 = np.array(Close_BOVA11) "
   ]
  },
  {
   "cell_type": "code",
   "execution_count": 180,
   "metadata": {},
   "outputs": [],
   "source": [
    "def normalize(x):\n",
    "    norm = []\n",
    "    for i in x:\n",
    "        z = (i-np.mean(x))/np.std(x)\n",
    "        norm.append(z)\n",
    "    return np.array(norm)"
   ]
  },
  {
   "cell_type": "code",
   "execution_count": 181,
   "metadata": {
    "scrolled": false
   },
   "outputs": [],
   "source": [
    "# #moving avarage\n",
    "ma = talib.MA(Close_BOVA11, timeperiod=30, matype=1)\n",
    "\n",
    "ma_norm = normalize(ma[29:])"
   ]
  },
  {
   "cell_type": "code",
   "execution_count": 182,
   "metadata": {},
   "outputs": [],
   "source": [
    "ADX = talib.ADX(np.array(BOVA11['High']),np.array(BOVA11['Low']), Close_BOVA11, timeperiod=15)\n",
    "\n",
    "ADX_norm = normalize(ADX[29:])"
   ]
  },
  {
   "cell_type": "code",
   "execution_count": 183,
   "metadata": {},
   "outputs": [],
   "source": [
    "macd, macdsignal, macdhist = talib.MACD(Close_BOVA11, fastperiod=12, slowperiod=21, signalperiod=10)\n",
    "macd_norm = normalize(macd[29:])"
   ]
  },
  {
   "cell_type": "code",
   "execution_count": 184,
   "metadata": {},
   "outputs": [],
   "source": [
    "MFI = talib.MFI(np.array(BOVA11['High']),np.array(BOVA11['Low']), Close_BOVA11, np.array(BOVA11['Volume']), timeperiod=29)\n",
    "MFI_norm = normalize(MFI[29:])"
   ]
  },
  {
   "cell_type": "code",
   "execution_count": 185,
   "metadata": {},
   "outputs": [],
   "source": [
    "def vol_norm(x):\n",
    "    norm = []\n",
    "    for i in x:\n",
    "        z = (i - min(x))/(max(x)-min(x))\n",
    "        norm.append(z)\n",
    "    return np.array(norm)"
   ]
  },
  {
   "cell_type": "code",
   "execution_count": 186,
   "metadata": {},
   "outputs": [],
   "source": [
    "BOVA11_LG = np.log(BOVA11['Close']).diff()"
   ]
  },
  {
   "cell_type": "code",
   "execution_count": 187,
   "metadata": {},
   "outputs": [
    {
     "data": {
      "text/plain": [
       "371"
      ]
     },
     "execution_count": 187,
     "metadata": {},
     "output_type": "execute_result"
    }
   ],
   "source": [
    "vol = vol_norm(np.array(BOVA11['Volume']))\n",
    "BOVA_ARRAY = np.array(BOVA11_LG)\n",
    "Index = BOVA11['Date'].tail(371)\n",
    "len(Index)"
   ]
  },
  {
   "cell_type": "code",
   "execution_count": 188,
   "metadata": {},
   "outputs": [],
   "source": [
    "def output(y):\n",
    "    out = []\n",
    "    for i in y:\n",
    "        if i < 0:\n",
    "            out.append(0)\n",
    "        else:\n",
    "            out.append(1)\n",
    "    return np.array(out)"
   ]
  },
  {
   "cell_type": "code",
   "execution_count": 189,
   "metadata": {},
   "outputs": [
    {
     "data": {
      "text/plain": [
       "400"
      ]
     },
     "execution_count": 189,
     "metadata": {},
     "output_type": "execute_result"
    }
   ],
   "source": [
    "out = output(BOVA_ARRAY)\n",
    "out.size"
   ]
  },
  {
   "cell_type": "code",
   "execution_count": 190,
   "metadata": {},
   "outputs": [
    {
     "data": {
      "text/html": [
       "<div>\n",
       "<style scoped>\n",
       "    .dataframe tbody tr th:only-of-type {\n",
       "        vertical-align: middle;\n",
       "    }\n",
       "\n",
       "    .dataframe tbody tr th {\n",
       "        vertical-align: top;\n",
       "    }\n",
       "\n",
       "    .dataframe thead th {\n",
       "        text-align: right;\n",
       "    }\n",
       "</style>\n",
       "<table border=\"1\" class=\"dataframe\">\n",
       "  <thead>\n",
       "    <tr style=\"text-align: right;\">\n",
       "      <th></th>\n",
       "      <th>LOG_RETURN</th>\n",
       "      <th>VOLUME</th>\n",
       "      <th>MA</th>\n",
       "      <th>ADX</th>\n",
       "      <th>MACD</th>\n",
       "      <th>MFI</th>\n",
       "      <th>OUTPUT</th>\n",
       "    </tr>\n",
       "    <tr>\n",
       "      <th>Date</th>\n",
       "      <th></th>\n",
       "      <th></th>\n",
       "      <th></th>\n",
       "      <th></th>\n",
       "      <th></th>\n",
       "      <th></th>\n",
       "      <th></th>\n",
       "    </tr>\n",
       "  </thead>\n",
       "  <tbody>\n",
       "    <tr>\n",
       "      <th>2018-12-28</th>\n",
       "      <td>0.045555</td>\n",
       "      <td>0.180625</td>\n",
       "      <td>-0.411206</td>\n",
       "      <td>0.586746</td>\n",
       "      <td>-0.864181</td>\n",
       "      <td>-0.515762</td>\n",
       "      <td>1</td>\n",
       "    </tr>\n",
       "    <tr>\n",
       "      <th>2019-01-02</th>\n",
       "      <td>0.059067</td>\n",
       "      <td>0.362587</td>\n",
       "      <td>-0.410439</td>\n",
       "      <td>0.374706</td>\n",
       "      <td>-0.643054</td>\n",
       "      <td>-0.528592</td>\n",
       "      <td>1</td>\n",
       "    </tr>\n",
       "    <tr>\n",
       "      <th>2019-01-03</th>\n",
       "      <td>0.024226</td>\n",
       "      <td>0.323020</td>\n",
       "      <td>-0.399667</td>\n",
       "      <td>0.260501</td>\n",
       "      <td>-0.406671</td>\n",
       "      <td>-0.555289</td>\n",
       "      <td>1</td>\n",
       "    </tr>\n",
       "    <tr>\n",
       "      <th>2019-01-04</th>\n",
       "      <td>0.002836</td>\n",
       "      <td>0.225098</td>\n",
       "      <td>-0.388397</td>\n",
       "      <td>0.169567</td>\n",
       "      <td>-0.211542</td>\n",
       "      <td>-0.585511</td>\n",
       "      <td>1</td>\n",
       "    </tr>\n",
       "    <tr>\n",
       "      <th>2019-01-07</th>\n",
       "      <td>0.015654</td>\n",
       "      <td>0.435444</td>\n",
       "      <td>-0.371208</td>\n",
       "      <td>0.202108</td>\n",
       "      <td>-0.020302</td>\n",
       "      <td>-0.084003</td>\n",
       "      <td>1</td>\n",
       "    </tr>\n",
       "  </tbody>\n",
       "</table>\n",
       "</div>"
      ],
      "text/plain": [
       "            LOG_RETURN    VOLUME        MA       ADX      MACD       MFI  \\\n",
       "Date                                                                       \n",
       "2018-12-28    0.045555  0.180625 -0.411206  0.586746 -0.864181 -0.515762   \n",
       "2019-01-02    0.059067  0.362587 -0.410439  0.374706 -0.643054 -0.528592   \n",
       "2019-01-03    0.024226  0.323020 -0.399667  0.260501 -0.406671 -0.555289   \n",
       "2019-01-04    0.002836  0.225098 -0.388397  0.169567 -0.211542 -0.585511   \n",
       "2019-01-07    0.015654  0.435444 -0.371208  0.202108 -0.020302 -0.084003   \n",
       "\n",
       "            OUTPUT  \n",
       "Date                \n",
       "2018-12-28       1  \n",
       "2019-01-02       1  \n",
       "2019-01-03       1  \n",
       "2019-01-04       1  \n",
       "2019-01-07       1  "
      ]
     },
     "execution_count": 190,
     "metadata": {},
     "output_type": "execute_result"
    }
   ],
   "source": [
    "INPUT_DATA = pd.DataFrame ({'LOG_RETURN':BOVA_ARRAY[29:] , 'VOLUME': vol[29:] , 'MA': ma_norm, 'ADX': ADX_norm, 'MACD':macd_norm, 'MFI': MFI_norm, 'OUTPUT':out[29:] }, index = Index, columns = ['LOG_RETURN', 'VOLUME','MA','ADX','MACD', 'MFI','OUTPUT'])\n",
    "#LOGDATA.fillna(0, inplace=True)\n",
    "INPUT_DATA.head()"
   ]
  },
  {
   "cell_type": "code",
   "execution_count": 191,
   "metadata": {},
   "outputs": [
    {
     "data": {
      "text/plain": [
       "1    50.892857\n",
       "0    49.107143\n",
       "Name: OUTPUT, dtype: float64"
      ]
     },
     "execution_count": 191,
     "metadata": {},
     "output_type": "execute_result"
    }
   ],
   "source": [
    "#Percentage of 0 and ones:\n",
    "TEST = INPUT_DATA[int(0.7*len(INPUT_DATA)):]\n",
    "TEST['OUTPUT'].value_counts(normalize=True) * 100"
   ]
  },
  {
   "cell_type": "code",
   "execution_count": 192,
   "metadata": {},
   "outputs": [],
   "source": [
    "#INPUT_DATA.to_csv('PETR4_INPUT.csv')"
   ]
  },
  {
   "cell_type": "code",
   "execution_count": 193,
   "metadata": {},
   "outputs": [],
   "source": [
    "import random \n",
    "\n",
    "lin = np.linspace(-1,1,50)\n",
    "def randome(x):\n",
    "    if(lin[x]<0):\n",
    "        return 0\n",
    "    else:\n",
    "        return 1\n",
    "\n",
    "    \n",
    "y_rand = []\n",
    "for i in range(len(TEST['OUTPUT'])):\n",
    "    y_rand.append(randome(random.randrange(0, 50, 1)))"
   ]
  },
  {
   "cell_type": "code",
   "execution_count": 194,
   "metadata": {},
   "outputs": [],
   "source": [
    "cl = classification_report(np.array(TEST['OUTPUT']), y_rand, output_dict=True)"
   ]
  },
  {
   "cell_type": "code",
   "execution_count": 195,
   "metadata": {},
   "outputs": [
    {
     "data": {
      "text/html": [
       "<div>\n",
       "<style scoped>\n",
       "    .dataframe tbody tr th:only-of-type {\n",
       "        vertical-align: middle;\n",
       "    }\n",
       "\n",
       "    .dataframe tbody tr th {\n",
       "        vertical-align: top;\n",
       "    }\n",
       "\n",
       "    .dataframe thead th {\n",
       "        text-align: right;\n",
       "    }\n",
       "</style>\n",
       "<table border=\"1\" class=\"dataframe\">\n",
       "  <thead>\n",
       "    <tr style=\"text-align: right;\">\n",
       "      <th></th>\n",
       "      <th>precision</th>\n",
       "      <th>recall</th>\n",
       "      <th>f1-score</th>\n",
       "      <th>support</th>\n",
       "    </tr>\n",
       "  </thead>\n",
       "  <tbody>\n",
       "    <tr>\n",
       "      <th>0</th>\n",
       "      <td>0.516667</td>\n",
       "      <td>0.563636</td>\n",
       "      <td>0.539130</td>\n",
       "      <td>55.000000</td>\n",
       "    </tr>\n",
       "    <tr>\n",
       "      <th>1</th>\n",
       "      <td>0.538462</td>\n",
       "      <td>0.491228</td>\n",
       "      <td>0.513761</td>\n",
       "      <td>57.000000</td>\n",
       "    </tr>\n",
       "    <tr>\n",
       "      <th>accuracy</th>\n",
       "      <td>0.526786</td>\n",
       "      <td>0.526786</td>\n",
       "      <td>0.526786</td>\n",
       "      <td>0.526786</td>\n",
       "    </tr>\n",
       "    <tr>\n",
       "      <th>macro avg</th>\n",
       "      <td>0.527564</td>\n",
       "      <td>0.527432</td>\n",
       "      <td>0.526446</td>\n",
       "      <td>112.000000</td>\n",
       "    </tr>\n",
       "    <tr>\n",
       "      <th>weighted avg</th>\n",
       "      <td>0.527759</td>\n",
       "      <td>0.526786</td>\n",
       "      <td>0.526219</td>\n",
       "      <td>112.000000</td>\n",
       "    </tr>\n",
       "  </tbody>\n",
       "</table>\n",
       "</div>"
      ],
      "text/plain": [
       "              precision    recall  f1-score     support\n",
       "0              0.516667  0.563636  0.539130   55.000000\n",
       "1              0.538462  0.491228  0.513761   57.000000\n",
       "accuracy       0.526786  0.526786  0.526786    0.526786\n",
       "macro avg      0.527564  0.527432  0.526446  112.000000\n",
       "weighted avg   0.527759  0.526786  0.526219  112.000000"
      ]
     },
     "execution_count": 195,
     "metadata": {},
     "output_type": "execute_result"
    }
   ],
   "source": [
    "pd.DataFrame(cl).transpose()"
   ]
  },
  {
   "cell_type": "code",
   "execution_count": 198,
   "metadata": {},
   "outputs": [
    {
     "data": {
      "text/plain": [
       "0.4642857142857143"
      ]
     },
     "execution_count": 198,
     "metadata": {},
     "output_type": "execute_result"
    }
   ],
   "source": [
    "um = 0\n",
    "zero = 0\n",
    "for i in y_rand:\n",
    "    if i == 1:\n",
    "        um = um +1\n",
    "    else:\n",
    "        zero = zero +1\n",
    "um/(um+zero)"
   ]
  },
  {
   "cell_type": "code",
   "execution_count": null,
   "metadata": {},
   "outputs": [],
   "source": []
  }
 ],
 "metadata": {
  "kernelspec": {
   "display_name": "Python 3",
   "language": "python",
   "name": "python3"
  },
  "language_info": {
   "codemirror_mode": {
    "name": "ipython",
    "version": 3
   },
   "file_extension": ".py",
   "mimetype": "text/x-python",
   "name": "python",
   "nbconvert_exporter": "python",
   "pygments_lexer": "ipython3",
   "version": "3.6.10"
  }
 },
 "nbformat": 4,
 "nbformat_minor": 4
}
