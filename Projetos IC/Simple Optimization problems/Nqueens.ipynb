{
  "nbformat": 4,
  "nbformat_minor": 0,
  "metadata": {
    "colab": {
      "name": "Nqueens.ipynb",
      "provenance": [],
      "collapsed_sections": []
    },
    "kernelspec": {
      "name": "python3",
      "display_name": "Python 3"
    },
    "language_info": {
      "name": "python"
    }
  },
  "cells": [
    {
      "cell_type": "code",
      "metadata": {
        "id": "IG8TscuY7gGs"
      },
      "source": [
        "import numpy as np\n",
        "import pandas as pd\n",
        "import matplotlib.pyplot as plt\n",
        "import math as mt"
      ],
      "execution_count": null,
      "outputs": []
    },
    {
      "cell_type": "markdown",
      "metadata": {
        "id": "UmOWT4dz8dnV"
      },
      "source": [
        "Fitness"
      ]
    },
    {
      "cell_type": "code",
      "metadata": {
        "id": "n9FVqFDG8DvJ"
      },
      "source": [
        "# returns the amount of collisions for a given solution (permutation).\n",
        "# the maximum amount of collisions that can occur is n(n-1)/2.\n",
        "# for a 4x4 chessboard, the maximum amount of collisions is 6, corresponding \n",
        "# to the situation in which all queens are in the same diagonal.\n",
        "\n",
        "def fitness_nq(solution):\n",
        "  f = 0\n",
        "  n = len(solution)\n",
        "  for i in range(n):\n",
        "    for j in range(n):\n",
        "      if abs(i-j) == abs(solution[i]-solution[j]) and  i != j:\n",
        "        f=f+1              \n",
        "  return f/2 "
      ],
      "execution_count": null,
      "outputs": []
    },
    {
      "cell_type": "markdown",
      "metadata": {
        "id": "ogsWcxH_-Fw6"
      },
      "source": [
        "Crossover"
      ]
    },
    {
      "cell_type": "code",
      "metadata": {
        "id": "CzZI0s-Q8a--"
      },
      "source": [
        "# parents = matrix [parent1 ; parent2] where each parent \n",
        "# represents a genotype for the N-Queens Problems\n",
        "# e.g.: parent1 = [ 1 3 5 2 6 4 7 8 ]\n",
        "\n",
        "def CutAndCrossfill_Crossover(parents):\n",
        "  N = len(parents[0])\n",
        "  offspring = np.zeros((2,N))\n",
        "  pos = mt.floor(N*np.random.uniform(0,1))   #single point crossover\n",
        "  offspring[0,:pos] = parents[0,:pos]\n",
        "  offspring[1,:pos] = parents[1,:pos]\n",
        "  s1 = pos;\n",
        "  s2 = pos;\n",
        "  for i in range(N):\n",
        "    check1 = -1\n",
        "    check2 = -1\n",
        "    for j in range(pos):\n",
        "      if parents[1,i] == offspring[0,j]:\n",
        "        check1 = 0\n",
        "      if parents[0,i] == offspring[1,j]:\n",
        "        check2 = 0\n",
        "    if check1 == -1:\n",
        "      offspring[0,s1] = parents[1,i]\n",
        "      s1 = s1 + 1\n",
        "    if check2 == -1:\n",
        "      offspring[1,s2] = parents[0,i]\n",
        "      s2 = s2 + 1\n",
        "  return offspring\n"
      ],
      "execution_count": null,
      "outputs": []
    },
    {
      "cell_type": "markdown",
      "metadata": {
        "id": "kNX3xCQKjoTv"
      },
      "source": [
        "Mutação"
      ]
    },
    {
      "cell_type": "code",
      "metadata": {
        "id": "wMsoVLXtSmXU"
      },
      "source": [
        "def mutation(solution):\n",
        "  prob = np.random.rand(1)\n",
        "  if prob >= 0.8:\n",
        "    return solution\n",
        "\n",
        "  N = len(solution)\n",
        "  pos1 = 0\n",
        "  pos2 = 0\n",
        "  while pos1 == pos2:\n",
        "    pos1 = mt.floor(N*np.random.uniform(0,1))\n",
        "    pos2 = mt.floor(N*np.random.uniform(0,1))\n",
        "  solution[pos1],solution[pos2] = solution[pos2], solution[pos1]\n",
        "  return solution\n"
      ],
      "execution_count": null,
      "outputs": []
    },
    {
      "cell_type": "markdown",
      "metadata": {
        "id": "k4tk5NTgjtp8"
      },
      "source": [
        "Seleção Pais"
      ]
    },
    {
      "cell_type": "code",
      "metadata": {
        "id": "C--EnV9uZ0ig"
      },
      "source": [
        "import random\n",
        "\n",
        "def parent_selection(fit):\n",
        "\n",
        "  n = len(fit) \n",
        "  randomlist = np.random.permutation(n)[:5]\n",
        "  sol = [0,1]\n",
        "\n",
        "  for i in randomlist:\n",
        "    if fit[i] < fit[sol[0]]:\n",
        "      sol[0] = i\n",
        "    elif fit[i] < fit[sol[1]]:\n",
        "      sol[1] = i\n",
        "  return sol\n",
        "    "
      ],
      "execution_count": null,
      "outputs": []
    },
    {
      "cell_type": "markdown",
      "metadata": {
        "id": "7mm6MDSwjyQ2"
      },
      "source": [
        "Pior indivíduo"
      ]
    },
    {
      "cell_type": "code",
      "metadata": {
        "id": "9Ms9EQMOyRiu"
      },
      "source": [
        "def wrost_fitness(fit):\n",
        "  max1 = 0\n",
        "\n",
        "  for i,j in enumerate(fit):\n",
        "    if j > fit[max1]:\n",
        "      max1 = i\n",
        "\n",
        "  return max1\n"
      ],
      "execution_count": null,
      "outputs": []
    },
    {
      "cell_type": "markdown",
      "metadata": {
        "id": "DiTmMA3fvCyh"
      },
      "source": [
        "População inicial"
      ]
    },
    {
      "cell_type": "code",
      "metadata": {
        "id": "jCDXm4d-AVDz"
      },
      "source": [
        "N = 100;                    # Tamanho da Matriz (N * N) (Rainhas)\n",
        "NPop = 30;                  # Tamanho da populacao  (30 <= Npop <= 50)\n",
        "pm = 0.8;                   # Probabilidade de mutacao\n",
        "Nbest = 5;                  # Numero de individuos escolhidos aleatoriamente\n",
        "Ncross = 1;                  # Numero de cruzamentos\n",
        "\n",
        "Pop = np.zeros([NPop, N])\n",
        "fit = np.zeros(NPop)\n",
        "\n",
        "for i in range(NPop):\n",
        "  Pop[i,:] = np.random.permutation(N)\n",
        "  fit[i] = fitness_nq(Pop[i,:])"
      ],
      "execution_count": null,
      "outputs": []
    },
    {
      "cell_type": "markdown",
      "metadata": {
        "id": "0HHsacFyxVuP"
      },
      "source": [
        "Critérios de Parada"
      ]
    },
    {
      "cell_type": "code",
      "metadata": {
        "id": "9lp-Q1Qnsr0R"
      },
      "source": [
        "Gen = 1\n",
        "sort_fit = np.sort(fit)\n",
        "best_fit_gen = []\n",
        "mid_fit_gen = []"
      ],
      "execution_count": null,
      "outputs": []
    },
    {
      "cell_type": "markdown",
      "metadata": {
        "id": "8d_eD-8gj4Zd"
      },
      "source": [
        "Execução Algoritmo Genético"
      ]
    },
    {
      "cell_type": "code",
      "metadata": {
        "id": "g7eaFUaOAVnp"
      },
      "source": [
        "while (50000 >= Gen):\n",
        "\n",
        "  sort_fit = np.sort(fit)\n",
        "  best_fit_gen.append(sort_fit[0])\n",
        "  mid_fit_gen.append(np.median(fit))\n",
        "  if (sort_fit[0] == 0):\n",
        "    break\n",
        "  best = parent_selection(fit)                         \n",
        "  parents = [Pop[best[0],:], Pop[best[1],:]]\n",
        "  children = CutAndCrossfill_Crossover(np.array(parents))\n",
        "  children[0] = mutation(children[0])\n",
        "  children[1] = mutation(children[1])         \n",
        "  Pop = np.vstack((Pop,children))\n",
        "  fit = np.append(fit, fitness_nq(Pop[-2]))\n",
        "  fit = np.append(fit, fitness_nq(Pop[-1]))\n",
        "\n",
        "  #delete wrost fitness\n",
        "  delete = wrost_fitness(fit)\n",
        "  Pop = np.delete(Pop,delete, 0)\n",
        "  fit = np.delete(fit,delete, 0)\n",
        "  delete = wrost_fitness(fit)\n",
        "  Pop = np.delete(Pop,delete, 0)\n",
        "  fit = np.delete(fit,delete, 0)\n",
        "\n",
        "  #update Gen\n",
        "  Gen = Gen + 1"
      ],
      "execution_count": null,
      "outputs": []
    },
    {
      "cell_type": "code",
      "metadata": {
        "colab": {
          "base_uri": "https://localhost:8080/",
          "height": 312
        },
        "id": "K7O9kpVjB1dq",
        "outputId": "8f3ff5dd-2fef-484d-c8ca-1afcf82cfd50"
      },
      "source": [
        "plt.plot(best_fit_gen)\n",
        "plt.xlabel('Gerações')\n",
        "plt.ylabel('Fitness')\n",
        "plt.title('Melhor Individuo')\n",
        "plt.legend()\n",
        "plt.show()"
      ],
      "execution_count": null,
      "outputs": [
        {
          "output_type": "stream",
          "text": [
            "No handles with labels found to put in legend.\n"
          ],
          "name": "stderr"
        },
        {
          "output_type": "display_data",
          "data": {
            "image/png": "[encoded data removed]",
            "text/plain": [
              "<Figure size 432x288 with 1 Axes>"
            ]
          },
          "metadata": {
            "tags": [],
            "needs_background": "light"
          }
        }
      ]
    },
    {
      "cell_type": "code",
      "metadata": {
        "colab": {
          "base_uri": "https://localhost:8080/",
          "height": 312
        },
        "id": "JATBKVdKBjNm",
        "outputId": "82d750ec-e5ca-4051-9baf-77f4455db552"
      },
      "source": [
        "plt.plot( mid_fit_gen)\n",
        "plt.xlabel('Gerações')\n",
        "plt.ylabel('Fitness')\n",
        "plt.title('Individuo médio')\n",
        "plt.legend()\n",
        "plt.show()"
      ],
      "execution_count": null,
      "outputs": [
        {
          "output_type": "stream",
          "text": [
            "No handles with labels found to put in legend.\n"
          ],
          "name": "stderr"
        },
        {
          "output_type": "display_data",
          "data": {
            "image/png": "[encoded data removed]",
            "text/plain": [
              "<Figure size 432x288 with 1 Axes>"
            ]
          },
          "metadata": {
            "tags": [],
            "needs_background": "light"
          }
        }
      ]
    },
    {
      "cell_type": "code",
      "metadata": {
        "colab": {
          "base_uri": "https://localhost:8080/",
          "height": 295
        },
        "id": "j9VnEr-1Bt1H",
        "outputId": "df0f8802-382d-4e21-a6a0-b3a74548ccab"
      },
      "source": [
        "plt.plot(mid_fit_gen, label = \"Indivíduo médio\")\n",
        "plt.plot(best_fit_gen, label = \"Melhor Indivíduo\")\n",
        "plt.xlabel('Gerações')\n",
        "plt.ylabel('Fitness')\n",
        "plt.title('indivíduo médio x Melhor Individuo')\n",
        "plt.legend()\n",
        "plt.show()"
      ],
      "execution_count": null,
      "outputs": [
        {
          "output_type": "display_data",
          "data": {
            "image/png": "[encoded data removed]",
            "text/plain": [
              "<Figure size 432x288 with 1 Axes>"
            ]
          },
          "metadata": {
            "tags": [],
            "needs_background": "light"
          }
        }
      ]
    }
  ]
}